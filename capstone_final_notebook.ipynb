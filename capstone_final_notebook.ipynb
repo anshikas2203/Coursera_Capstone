{
 "cells": [
  {
   "cell_type": "markdown",
   "metadata": {},
   "source": [
    "## Battle of neighbourhood (week 2)\n",
    "### Project to find location for building an Indian restaurant by looking at all the factors ."
   ]
  },
  {
   "cell_type": "markdown",
   "metadata": {},
   "source": [
    "#### Introduction\n",
    "When a new person moves from India to New York due to job change or any other reasons, some questions come in his mind regarding the Indian food/restaurants e.g.\n",
    "\n",
    "• Which areas have potential Indian restaurant market?\n",
    "\n",
    "• What is best place in New York City for Indian Cuisine?\n",
    "\n",
    "And the same problem arises when a person want to open a new Indian restaurant in the New York. The person also wants to know which is the best Borough to open a new restaurant?\n",
    "\n",
    "So, in this project we will try to find the solution of above mentioned questions and try to find out best places in New York for Indian Cuisine and also find out the best Borough to open a new Indian restaurant. Also, we will visualize the Indian restaurants in all major parts of New York City."
   ]
  },
  {
   "cell_type": "markdown",
   "metadata": {},
   "source": [
    "### Data\n",
    "For resolving the above mentioned problems, we need the following data:\n",
    "\n",
    "• Indian restaurants in each neighborhood of New York City  Data Source: Foursquare API  Description: By using this API we will get all the venues in each neighborhood. We can filter these venues to get only Indian restaurants\n",
    "\n",
    "• New York City data which contains list Boroughs, Neighborhoods along with their latitude and longitude  Description: This data set contains the required information.\n",
    "\n",
    "And we will use this data set to explore various neighborhoods of New York City\n",
    "\n",
    "We will import the required libraries."
   ]
  },
  {
   "cell_type": "code",
   "execution_count": null,
   "metadata": {
    "collapsed": true
   },
   "outputs": [],
   "source": []
  },
  {
   "cell_type": "code",
   "execution_count": 1,
   "metadata": {
    "collapsed": false
   },
   "outputs": [
    {
     "name": "stdout",
     "output_type": "stream",
     "text": [
      "numpy, pandas, ..., imported...\n",
      "geopy installed...\n",
      "Nominatim imported...\n",
      "requests imported...\n",
      "json_normalize imported...\n",
      "matplotlib imported...\n",
      "folium installed...\n",
      "folium imported...\n"
     ]
    }
   ],
   "source": [
    "import numpy as np\n",
    "\n",
    "# library for data analsysis\n",
    "import pandas as pd\n",
    "pd.set_option('display.max_columns', None)\n",
    "pd.set_option('display.max_rows', None)\n",
    "\n",
    "# library to handle JSON files\n",
    "import json\n",
    "print('numpy, pandas, ..., imported...')\n",
    "\n",
    "!pip -q install geopy\n",
    "# conda install -c conda-forge geopy --yes # uncomment this line if you haven't completed the Foursquare API lab\n",
    "print('geopy installed...')\n",
    "# convert an address into latitude and longitude values\n",
    "from geopy.geocoders import Nominatim\n",
    "print('Nominatim imported...')\n",
    "\n",
    "# library to handle requests\n",
    "import requests\n",
    "print('requests imported...')\n",
    "\n",
    "# tranform JSON file into a pandas dataframe\n",
    "from pandas.io.json import json_normalize\n",
    "print('json_normalize imported...')\n",
    "\n",
    "# Matplotlib and associated plotting modules\n",
    "import matplotlib.cm as cm\n",
    "import matplotlib.colors as colors\n",
    "print('matplotlib imported...')\n",
    "\n",
    "# import k-means from clustering stage\n",
    "from sklearn.cluster import KMeans\n",
    "# !conda install -c conda-forge folium=0.5.0 --yes # uncomment this line if you haven't completed the Foursquare API lab\n",
    "!pip -q install folium\n",
    "print('folium installed...')\n",
    "import folium # map rendering library\n",
    "print('folium imported...')\n"
   ]
  },
  {
   "cell_type": "code",
   "execution_count": 2,
   "metadata": {
    "collapsed": true
   },
   "outputs": [],
   "source": [
    "def geo_location(address):\n",
    "    # get geo location of address\n",
    "    geolocator = Nominatim(user_agent=\"ny_explorer\")\n",
    "    location = geolocator.geocode(address)\n",
    "    latitude = location.latitude\n",
    "    longitude = location.longitude\n",
    "    return latitude,longitude"
   ]
  },
  {
   "cell_type": "markdown",
   "metadata": {},
   "source": [
    "##### Methodlogy"
   ]
  },
  {
   "cell_type": "markdown",
   "metadata": {},
   "source": [
    "Let's define a function to intract with FourSquare API and get top 100 venues within a radius of 1000 metres for a given latitude and longitude. Below function will return us the venue id , venue name and category."
   ]
  },
  {
   "cell_type": "code",
   "execution_count": 3,
   "metadata": {
    "collapsed": true
   },
   "outputs": [],
   "source": [
    "def get_venues(lat,lng):\n",
    "    \n",
    "    #set variables\n",
    "    radius=1000\n",
    "    LIMIT=100\n",
    "    CLIENT_ID = 'UYXY4PRITZONGXUJNE5WHZDO132CIAOABGIXLWH3KKSCODYZ' # your Foursquare ID\n",
    "    CLIENT_SECRET = 'J00XHEBQIWB5FZC4UFLRUCCTLCRLO21IGC0UV4ISGIYEAKDD' # your Foursquare Secret\n",
    "    VERSION = '20190605' # Foursquare API version\n",
    "    \n",
    "    #url to fetch data from foursquare api\n",
    "    url = 'https://api.foursquare.com/v2/venues/explore?&client_id={}&client_secret={}&v={}&ll={},{}&radius={}&limit={}'.format(\n",
    "            CLIENT_ID, \n",
    "            CLIENT_SECRET, \n",
    "            VERSION, \n",
    "            lat, \n",
    "            lng, \n",
    "            radius, \n",
    "            LIMIT)\n",
    "    \n",
    "    # get all the data\n",
    "    results = requests.get(url).json()\n",
    "    venue_data=results[\"response\"]['groups'][0]['items']\n",
    "    venue_details=[]\n",
    "    for row in venue_data:\n",
    "        try:\n",
    "            venue_id=row['venue']['id']\n",
    "            venue_name=row['venue']['name']\n",
    "            venue_category=row['venue']['categories'][0]['name']\n",
    "            venue_details.append([venue_id,venue_name,venue_category])\n",
    "        except KeyError:\n",
    "            pass\n",
    "        \n",
    "    column_names=['ID','Name','Category']\n",
    "    df = pd.DataFrame(venue_details,columns=column_names)\n",
    "    return df"
   ]
  },
  {
   "cell_type": "markdown",
   "metadata": {},
   "source": [
    "Let's define a function to get venue details like like count , rating , tip counts for a given venue id."
   ]
  },
  {
   "cell_type": "code",
   "execution_count": 4,
   "metadata": {
    "collapsed": true
   },
   "outputs": [],
   "source": [
    "def get_venue_details(venue_id):\n",
    "        \n",
    "     CLIENT_ID = 'Y2MQTFDXRP25NUSFS4XT5EPM3RWHVVDXQURS4GARWWERRBP0' # your Foursquare ID\n",
    "     CLIENT_SECRET = 'HLGAWVJ43MCVLWTTPFXNLVVR1PDT3FEXPGFOSNUJ01F2FSKV' # your Foursquare Secret\n",
    "     VERSION = '20190605' # Foursquare API version\n",
    "    \n",
    "     #url to fetch data from foursquare api\n",
    "     url = 'https://api.foursquare.com/v2/venues/{}?&client_id={}&client_secret={}&v={}'.format(\n",
    "             venue_id,\n",
    "             CLIENT_ID, \n",
    "             CLIENT_SECRET, \n",
    "             VERSION)\n",
    "    \n",
    "     # get all the data\n",
    "     results = requests.get(url).json()\n",
    "     venue_data=results['response']['venue']\n",
    "     venue_details=[]\n",
    "     try:\n",
    "         venue_id=venue_data['id']\n",
    "         venue_name=venue_data['name']\n",
    "         venue_likes=venue_data['likes']['count']\n",
    "         venue_rating=venue_data['rating']\n",
    "         venue_tips=venue_data['tips']['count']\n",
    "         venue_details.append([venue_id,venue_name,venue_likes,venue_rating,venue_tips])\n",
    "     except KeyError:\n",
    "         pass\n",
    "        \n",
    "     column_names=['ID','Name','Likes','Rating','Tips']\n",
    "     df = pd.DataFrame(venue_details,columns=column_names)\n",
    "     return df"
   ]
  },
  {
   "cell_type": "markdown",
   "metadata": {},
   "source": [
    "Let's get the new york city data such as Boroughs, Neighborhoods along with their latitude and longitude."
   ]
  },
  {
   "cell_type": "code",
   "execution_count": 8,
   "metadata": {
    "collapsed": true
   },
   "outputs": [],
   "source": [
    "url='https://cocl.us/new_york_dataset'\n",
    "resp=requests.get(url).json()\n",
    "    # all data is present in features label\n",
    "features=resp['features']\n",
    "    \n",
    "    # define the dataframe columns\n",
    "column_names = ['Borough', 'Neighborhood', 'Latitude', 'Longitude'] \n",
    "    # instantiate the dataframe\n",
    "new_york_data = pd.DataFrame(columns=column_names)\n",
    "    \n",
    "for data in features:\n",
    "    borough = data['properties']['borough'] \n",
    "    neighborhood_name = data['properties']['name']\n",
    "        \n",
    "    neighborhood_latlon = data['geometry']['coordinates']\n",
    "    neighborhood_lat = neighborhood_latlon[1]\n",
    "    neighborhood_lon = neighborhood_latlon[0]\n",
    "    \n",
    "    new_york_data = new_york_data.append({'Borough': borough,\n",
    "                                          'Neighborhood': neighborhood_name,\n",
    "                                          'Latitude': neighborhood_lat,\n",
    "                                          'Longitude': neighborhood_lon}, ignore_index=True)"
   ]
  },
  {
   "cell_type": "code",
   "execution_count": 9,
   "metadata": {
    "collapsed": false
   },
   "outputs": [
    {
     "data": {
      "text/html": [
       "<div>\n",
       "<style scoped>\n",
       "    .dataframe tbody tr th:only-of-type {\n",
       "        vertical-align: middle;\n",
       "    }\n",
       "\n",
       "    .dataframe tbody tr th {\n",
       "        vertical-align: top;\n",
       "    }\n",
       "\n",
       "    .dataframe thead th {\n",
       "        text-align: right;\n",
       "    }\n",
       "</style>\n",
       "<table border=\"1\" class=\"dataframe\">\n",
       "  <thead>\n",
       "    <tr style=\"text-align: right;\">\n",
       "      <th></th>\n",
       "      <th>Borough</th>\n",
       "      <th>Neighborhood</th>\n",
       "      <th>Latitude</th>\n",
       "      <th>Longitude</th>\n",
       "    </tr>\n",
       "  </thead>\n",
       "  <tbody>\n",
       "    <tr>\n",
       "      <th>0</th>\n",
       "      <td>Bronx</td>\n",
       "      <td>Wakefield</td>\n",
       "      <td>40.894705</td>\n",
       "      <td>-73.847201</td>\n",
       "    </tr>\n",
       "    <tr>\n",
       "      <th>1</th>\n",
       "      <td>Bronx</td>\n",
       "      <td>Co-op City</td>\n",
       "      <td>40.874294</td>\n",
       "      <td>-73.829939</td>\n",
       "    </tr>\n",
       "    <tr>\n",
       "      <th>2</th>\n",
       "      <td>Bronx</td>\n",
       "      <td>Eastchester</td>\n",
       "      <td>40.887556</td>\n",
       "      <td>-73.827806</td>\n",
       "    </tr>\n",
       "    <tr>\n",
       "      <th>3</th>\n",
       "      <td>Bronx</td>\n",
       "      <td>Fieldston</td>\n",
       "      <td>40.895437</td>\n",
       "      <td>-73.905643</td>\n",
       "    </tr>\n",
       "    <tr>\n",
       "      <th>4</th>\n",
       "      <td>Bronx</td>\n",
       "      <td>Riverdale</td>\n",
       "      <td>40.890834</td>\n",
       "      <td>-73.912585</td>\n",
       "    </tr>\n",
       "  </tbody>\n",
       "</table>\n",
       "</div>"
      ],
      "text/plain": [
       "  Borough Neighborhood   Latitude  Longitude\n",
       "0   Bronx    Wakefield  40.894705 -73.847201\n",
       "1   Bronx   Co-op City  40.874294 -73.829939\n",
       "2   Bronx  Eastchester  40.887556 -73.827806\n",
       "3   Bronx    Fieldston  40.895437 -73.905643\n",
       "4   Bronx    Riverdale  40.890834 -73.912585"
      ]
     },
     "execution_count": 9,
     "metadata": {},
     "output_type": "execute_result"
    }
   ],
   "source": [
    "new_york_data.head()"
   ]
  },
  {
   "cell_type": "code",
   "execution_count": 10,
   "metadata": {
    "collapsed": false
   },
   "outputs": [
    {
     "data": {
      "text/plain": [
       "(306, 4)"
      ]
     },
     "execution_count": 10,
     "metadata": {},
     "output_type": "execute_result"
    }
   ],
   "source": [
    "new_york_data.shape"
   ]
  },
  {
   "cell_type": "markdown",
   "metadata": {},
   "source": [
    "Let's visualize number of Neighborhood for each Borough in New York City."
   ]
  },
  {
   "cell_type": "code",
   "execution_count": 11,
   "metadata": {
    "collapsed": false
   },
   "outputs": [
    {
     "data": {
      "image/png": "[encoded data removed]",
      "text/plain": [
       "<Figure size 900x500 with 1 Axes>"
      ]
     },
     "metadata": {
      "needs_background": "light"
     },
     "output_type": "display_data"
    }
   ],
   "source": [
    "import matplotlib.pyplot as plt\n",
    "%matplotlib inline\n",
    "\n",
    "plt.figure(figsize=(9,5), dpi = 100)\n",
    "# title\n",
    "plt.title('Number of Neighborhood for each Borough in New York City')\n",
    "#On x-axis\n",
    "plt.xlabel('Borough', fontsize = 15)\n",
    "#On y-axis\n",
    "plt.ylabel('No.of Neighborhood', fontsize=15)\n",
    "#giving a bar plot\n",
    "new_york_data.groupby('Borough')['Neighborhood'].count().plot(kind='bar')\n",
    "#legend\n",
    "plt.legend()\n",
    "#displays the plot\n",
    "plt.show()"
   ]
  },
  {
   "cell_type": "markdown",
   "metadata": {},
   "source": [
    "We see that Queens has highest number of neighborhoods.\n",
    "\n",
    "Now we will collect Indian resturants for each Neighborhood"
   ]
  },
  {
   "cell_type": "code",
   "execution_count": 12,
   "metadata": {
    "collapsed": true
   },
   "outputs": [],
   "source": [
    "column_names=['Borough', 'Neighborhood', 'ID','Name']\n",
    "indian_rest_ny=pd.DataFrame(columns=column_names)\n",
    "count=1\n",
    "for row in new_york_data.values.tolist():\n",
    "    Borough, Neighborhood, Latitude, Longitude=row\n",
    "    venues = get_venues(Latitude, Longitude)\n",
    "    indian_resturants=venues[venues['Category']=='Indian Restaurant']\n",
    "    for resturant_detail in indian_resturants.values.tolist():\n",
    "        id, name , category=resturant_detail\n",
    "        indian_rest_ny = indian_rest_ny.append({'Borough': Borough,\n",
    "                                                'Neighborhood': Neighborhood, \n",
    "                                                'ID': id,\n",
    "                                                'Name' : name\n",
    "                                               }, ignore_index=True)\n",
    "    count+=1"
   ]
  },
  {
   "cell_type": "code",
   "execution_count": 13,
   "metadata": {
    "collapsed": false
   },
   "outputs": [
    {
     "data": {
      "text/html": [
       "<div>\n",
       "<style scoped>\n",
       "    .dataframe tbody tr th:only-of-type {\n",
       "        vertical-align: middle;\n",
       "    }\n",
       "\n",
       "    .dataframe tbody tr th {\n",
       "        vertical-align: top;\n",
       "    }\n",
       "\n",
       "    .dataframe thead th {\n",
       "        text-align: right;\n",
       "    }\n",
       "</style>\n",
       "<table border=\"1\" class=\"dataframe\">\n",
       "  <thead>\n",
       "    <tr style=\"text-align: right;\">\n",
       "      <th></th>\n",
       "      <th>Borough</th>\n",
       "      <th>Neighborhood</th>\n",
       "      <th>ID</th>\n",
       "      <th>Name</th>\n",
       "    </tr>\n",
       "  </thead>\n",
       "  <tbody>\n",
       "    <tr>\n",
       "      <th>0</th>\n",
       "      <td>Bronx</td>\n",
       "      <td>Woodlawn</td>\n",
       "      <td>4c0448d9310fc9b6bf1dc761</td>\n",
       "      <td>Curry Spot</td>\n",
       "    </tr>\n",
       "    <tr>\n",
       "      <th>1</th>\n",
       "      <td>Bronx</td>\n",
       "      <td>Williamsbridge</td>\n",
       "      <td>570c3a3fcd10eecd0d0434cd</td>\n",
       "      <td>Agra Grill</td>\n",
       "    </tr>\n",
       "    <tr>\n",
       "      <th>2</th>\n",
       "      <td>Bronx</td>\n",
       "      <td>Parkchester</td>\n",
       "      <td>4c194631838020a13e78e561</td>\n",
       "      <td>Melanies Roti Bar And Grill</td>\n",
       "    </tr>\n",
       "    <tr>\n",
       "      <th>3</th>\n",
       "      <td>Bronx</td>\n",
       "      <td>Spuyten Duyvil</td>\n",
       "      <td>4c04544df423a593ac83d116</td>\n",
       "      <td>Cumin Indian Cuisine</td>\n",
       "    </tr>\n",
       "    <tr>\n",
       "      <th>4</th>\n",
       "      <td>Bronx</td>\n",
       "      <td>Concourse</td>\n",
       "      <td>551b7f75498e86c00a0ed2e1</td>\n",
       "      <td>Hungry Bird</td>\n",
       "    </tr>\n",
       "  </tbody>\n",
       "</table>\n",
       "</div>"
      ],
      "text/plain": [
       "  Borough    Neighborhood                        ID  \\\n",
       "0   Bronx        Woodlawn  4c0448d9310fc9b6bf1dc761   \n",
       "1   Bronx  Williamsbridge  570c3a3fcd10eecd0d0434cd   \n",
       "2   Bronx     Parkchester  4c194631838020a13e78e561   \n",
       "3   Bronx  Spuyten Duyvil  4c04544df423a593ac83d116   \n",
       "4   Bronx       Concourse  551b7f75498e86c00a0ed2e1   \n",
       "\n",
       "                          Name  \n",
       "0                   Curry Spot  \n",
       "1                   Agra Grill  \n",
       "2  Melanies Roti Bar And Grill  \n",
       "3         Cumin Indian Cuisine  \n",
       "4                  Hungry Bird  "
      ]
     },
     "execution_count": 13,
     "metadata": {},
     "output_type": "execute_result"
    }
   ],
   "source": [
    "indian_rest_ny.head()\n"
   ]
  },
  {
   "cell_type": "code",
   "execution_count": 14,
   "metadata": {
    "collapsed": false
   },
   "outputs": [
    {
     "data": {
      "text/plain": [
       "(147, 4)"
      ]
     },
     "execution_count": 14,
     "metadata": {},
     "output_type": "execute_result"
    }
   ],
   "source": [
    "indian_rest_ny.shape"
   ]
  },
  {
   "cell_type": "markdown",
   "metadata": {},
   "source": [
    "We got 147 Indian Resturants across New York City\n",
    "\n",
    "Let's visualize number of Indian Resturants for each Borough in New York City."
   ]
  },
  {
   "cell_type": "code",
   "execution_count": 15,
   "metadata": {
    "collapsed": false
   },
   "outputs": [
    {
     "data": {
      "image/png": "[encoded data removed]",
      "text/plain": [
       "<Figure size 900x500 with 1 Axes>"
      ]
     },
     "metadata": {
      "needs_background": "light"
     },
     "output_type": "display_data"
    }
   ],
   "source": [
    "%matplotlib inline\n",
    "plt.figure(figsize=(9,5), dpi = 100)\n",
    "# title\n",
    "plt.title('Number of Indian Resturants for each Borough in New York City')\n",
    "#On x-axis\n",
    "plt.xlabel('Borough', fontsize = 15)\n",
    "#On y-axis\n",
    "plt.ylabel('No.of Indian Resturants', fontsize=15)\n",
    "#giving a bar plot\n",
    "indian_rest_ny.groupby('Borough')['ID'].count().plot(kind='bar')\n",
    "#legend\n",
    "plt.legend()\n",
    "#displays the plot\n",
    "plt.show()"
   ]
  },
  {
   "cell_type": "markdown",
   "metadata": {},
   "source": [
    "Staten Island' and 'Bronx' both have less than 10 Indian Restaurant, so these both places are suitable for opening a new restaurant. 'Queens' have highest number of indian restaurants.\n",
    "\n",
    "Let's visualize number of Indian Resturants for top 20 Neighborhoods in New York City."
   ]
  },
  {
   "cell_type": "code",
   "execution_count": 16,
   "metadata": {
    "collapsed": false
   },
   "outputs": [
    {
     "data": {
      "image/png": "[encoded data removed]",
      "text/plain": [
       "<Figure size 900x500 with 1 Axes>"
      ]
     },
     "metadata": {
      "needs_background": "light"
     },
     "output_type": "display_data"
    }
   ],
   "source": [
    "%matplotlib inline\n",
    "plt.figure(figsize=(9,5), dpi = 100)\n",
    "# title\n",
    "plt.title('Number of Indian Resturants for each Neighborhood in New York City')\n",
    "#On x-axis\n",
    "plt.xlabel('Neighborhood', fontsize = 15)\n",
    "#On y-axis\n",
    "plt.ylabel('No.of Indian Resturants', fontsize=15)\n",
    "#giving a bar plot\n",
    "indian_rest_ny.groupby('Neighborhood')['ID'].count().nlargest(20).plot(kind='bar')\n",
    "#legend\n",
    "plt.legend()\n",
    "#displays the plot\n",
    "plt.show()"
   ]
  },
  {
   "cell_type": "code",
   "execution_count": 17,
   "metadata": {
    "collapsed": false
   },
   "outputs": [
    {
     "data": {
      "text/html": [
       "<div>\n",
       "<style scoped>\n",
       "    .dataframe tbody tr th:only-of-type {\n",
       "        vertical-align: middle;\n",
       "    }\n",
       "\n",
       "    .dataframe tbody tr th {\n",
       "        vertical-align: top;\n",
       "    }\n",
       "\n",
       "    .dataframe thead th {\n",
       "        text-align: right;\n",
       "    }\n",
       "</style>\n",
       "<table border=\"1\" class=\"dataframe\">\n",
       "  <thead>\n",
       "    <tr style=\"text-align: right;\">\n",
       "      <th></th>\n",
       "      <th>Borough</th>\n",
       "      <th>Neighborhood</th>\n",
       "      <th>ID</th>\n",
       "      <th>Name</th>\n",
       "    </tr>\n",
       "  </thead>\n",
       "  <tbody>\n",
       "    <tr>\n",
       "      <th>101</th>\n",
       "      <td>Queens</td>\n",
       "      <td>Floral Park</td>\n",
       "      <td>527ffc0811d2d329d5e49abd</td>\n",
       "      <td>Jackson Diner</td>\n",
       "    </tr>\n",
       "    <tr>\n",
       "      <th>102</th>\n",
       "      <td>Queens</td>\n",
       "      <td>Floral Park</td>\n",
       "      <td>4e4e3e22bd4101d0d7a5c2d1</td>\n",
       "      <td>Kerala Kitchen</td>\n",
       "    </tr>\n",
       "    <tr>\n",
       "      <th>103</th>\n",
       "      <td>Queens</td>\n",
       "      <td>Floral Park</td>\n",
       "      <td>4b647b56f964a520c4b62ae3</td>\n",
       "      <td>Usha Foods &amp; Usha Sweets</td>\n",
       "    </tr>\n",
       "    <tr>\n",
       "      <th>104</th>\n",
       "      <td>Queens</td>\n",
       "      <td>Floral Park</td>\n",
       "      <td>4b787c49f964a5209cd12ee3</td>\n",
       "      <td>Santoor Indian Restaurant</td>\n",
       "    </tr>\n",
       "    <tr>\n",
       "      <th>105</th>\n",
       "      <td>Queens</td>\n",
       "      <td>Floral Park</td>\n",
       "      <td>4c0c01e0bbc676b00d6b4cd5</td>\n",
       "      <td>Mumbai Xpress</td>\n",
       "    </tr>\n",
       "    <tr>\n",
       "      <th>106</th>\n",
       "      <td>Queens</td>\n",
       "      <td>Floral Park</td>\n",
       "      <td>4c76ff35a5676dcb72671721</td>\n",
       "      <td>Flavor Of India</td>\n",
       "    </tr>\n",
       "    <tr>\n",
       "      <th>107</th>\n",
       "      <td>Queens</td>\n",
       "      <td>Floral Park</td>\n",
       "      <td>4df0f39dd4c04d0392c853ea</td>\n",
       "      <td>Sagar Chinese</td>\n",
       "    </tr>\n",
       "    <tr>\n",
       "      <th>108</th>\n",
       "      <td>Queens</td>\n",
       "      <td>Floral Park</td>\n",
       "      <td>55d68c1b498ecf05fa196fe1</td>\n",
       "      <td>Namaste Restaurant and Cafe</td>\n",
       "    </tr>\n",
       "    <tr>\n",
       "      <th>109</th>\n",
       "      <td>Queens</td>\n",
       "      <td>Floral Park</td>\n",
       "      <td>4e6bfe1c7d8b2c711b17bbe5</td>\n",
       "      <td>Surya sweets and snacks</td>\n",
       "    </tr>\n",
       "  </tbody>\n",
       "</table>\n",
       "</div>"
      ],
      "text/plain": [
       "    Borough Neighborhood                        ID  \\\n",
       "101  Queens  Floral Park  527ffc0811d2d329d5e49abd   \n",
       "102  Queens  Floral Park  4e4e3e22bd4101d0d7a5c2d1   \n",
       "103  Queens  Floral Park  4b647b56f964a520c4b62ae3   \n",
       "104  Queens  Floral Park  4b787c49f964a5209cd12ee3   \n",
       "105  Queens  Floral Park  4c0c01e0bbc676b00d6b4cd5   \n",
       "106  Queens  Floral Park  4c76ff35a5676dcb72671721   \n",
       "107  Queens  Floral Park  4df0f39dd4c04d0392c853ea   \n",
       "108  Queens  Floral Park  55d68c1b498ecf05fa196fe1   \n",
       "109  Queens  Floral Park  4e6bfe1c7d8b2c711b17bbe5   \n",
       "\n",
       "                            Name  \n",
       "101                Jackson Diner  \n",
       "102               Kerala Kitchen  \n",
       "103     Usha Foods & Usha Sweets  \n",
       "104    Santoor Indian Restaurant  \n",
       "105                Mumbai Xpress  \n",
       "106              Flavor Of India  \n",
       "107                Sagar Chinese  \n",
       "108  Namaste Restaurant and Cafe  \n",
       "109      Surya sweets and snacks  "
      ]
     },
     "execution_count": 17,
     "metadata": {},
     "output_type": "execute_result"
    }
   ],
   "source": [
    "indian_rest_ny[indian_rest_ny['Neighborhood']=='Floral Park']"
   ]
  },
  {
   "cell_type": "markdown",
   "metadata": {},
   "source": [
    "So Floral Park in Queens has the highest number of Indian Resturants with a total count of 9.\n",
    "\n",
    "Let's get the ranking of each resturant for further analysis."
   ]
  },
  {
   "cell_type": "code",
   "execution_count": 32,
   "metadata": {
    "collapsed": false
   },
   "outputs": [
    {
     "name": "stdout",
     "output_type": "stream",
     "text": [
      "No data available for id= 570c3a3fcd10eecd0d0434cd\n",
      "No data available for id= 579e8145498ec3cf1ca04dd8\n",
      "No data available for id= 579e8145498ec3cf1ca04dd8\n",
      "No data available for id= 5682cfde498e0a65d524f8dd\n",
      "No data available for id= 4dc0aaedae606fe8b71c226b\n",
      "No data available for id= 5401515e498e60d0fe0abe3b\n",
      "No data available for id= 55d68c1b498ecf05fa196fe1\n",
      "No data available for id= 4e6bfe1c7d8b2c711b17bbe5\n",
      "No data available for id= 4b8d5734f964a520b1f532e3\n",
      "No data available for id= 4dc0aaedae606fe8b71c226b\n",
      "No data available for id= 59fcbd4edb1d813e71197d23\n",
      "No data available for id= 4cb4a712db32f04dcb5adf4d\n"
     ]
    }
   ],
   "source": [
    "\n",
    "# prepare neighborhood list that contains indian resturants\n",
    "column_names=['Borough', 'Neighborhood', 'ID','Name','Likes','Rating','Tips']\n",
    "indian_rest_stats_ny=pd.DataFrame(columns=column_names)\n",
    "count=1\n",
    "\n",
    "\n",
    "for row in indian_rest_ny.values.tolist():\n",
    "    Borough,Neighborhood,ID,Name=row\n",
    "    try:\n",
    "        venue_details=get_venue_details(ID)\n",
    "        #print(venue_details)\n",
    "        id,name,likes,rating,tips=venue_details.values.tolist()[0]\n",
    "    except IndexError:\n",
    "        print('No data available for id=',ID)\n",
    "        # we will assign 0 value for these resturants as they may have been \n",
    "        #recently opened or details does not exist in FourSquare Database\n",
    "        id,name,likes,rating,tips=[0]*5\n",
    "    #print('(',count,'/',len(indian_rest_ny),')','processed')\n",
    "    indian_rest_stats_ny = indian_rest_stats_ny.append({'Borough': Borough,\n",
    "                                                'Neighborhood': Neighborhood, \n",
    "                                                'ID': id,\n",
    "                                                'Name' : name,\n",
    "                                                'Likes' : likes,\n",
    "                                                'Rating' : rating,\n",
    "                                                'Tips' : tips\n",
    "                                               }, ignore_index=True)\n",
    "    count+=1"
   ]
  },
  {
   "cell_type": "code",
   "execution_count": 33,
   "metadata": {
    "collapsed": false
   },
   "outputs": [
    {
     "data": {
      "text/html": [
       "<div>\n",
       "<style scoped>\n",
       "    .dataframe tbody tr th:only-of-type {\n",
       "        vertical-align: middle;\n",
       "    }\n",
       "\n",
       "    .dataframe tbody tr th {\n",
       "        vertical-align: top;\n",
       "    }\n",
       "\n",
       "    .dataframe thead th {\n",
       "        text-align: right;\n",
       "    }\n",
       "</style>\n",
       "<table border=\"1\" class=\"dataframe\">\n",
       "  <thead>\n",
       "    <tr style=\"text-align: right;\">\n",
       "      <th></th>\n",
       "      <th>Borough</th>\n",
       "      <th>Neighborhood</th>\n",
       "      <th>ID</th>\n",
       "      <th>Name</th>\n",
       "      <th>Likes</th>\n",
       "      <th>Rating</th>\n",
       "      <th>Tips</th>\n",
       "    </tr>\n",
       "  </thead>\n",
       "  <tbody>\n",
       "    <tr>\n",
       "      <th>0</th>\n",
       "      <td>Bronx</td>\n",
       "      <td>Woodlawn</td>\n",
       "      <td>4c0448d9310fc9b6bf1dc761</td>\n",
       "      <td>Curry Spot</td>\n",
       "      <td>4</td>\n",
       "      <td>7.9</td>\n",
       "      <td>11</td>\n",
       "    </tr>\n",
       "    <tr>\n",
       "      <th>1</th>\n",
       "      <td>Bronx</td>\n",
       "      <td>Williamsbridge</td>\n",
       "      <td>0</td>\n",
       "      <td>0</td>\n",
       "      <td>0</td>\n",
       "      <td>0.0</td>\n",
       "      <td>0</td>\n",
       "    </tr>\n",
       "    <tr>\n",
       "      <th>2</th>\n",
       "      <td>Bronx</td>\n",
       "      <td>Parkchester</td>\n",
       "      <td>4c194631838020a13e78e561</td>\n",
       "      <td>Melanies Roti Bar And Grill</td>\n",
       "      <td>3</td>\n",
       "      <td>6.2</td>\n",
       "      <td>2</td>\n",
       "    </tr>\n",
       "    <tr>\n",
       "      <th>3</th>\n",
       "      <td>Bronx</td>\n",
       "      <td>Spuyten Duyvil</td>\n",
       "      <td>4c04544df423a593ac83d116</td>\n",
       "      <td>Cumin Indian Cuisine</td>\n",
       "      <td>13</td>\n",
       "      <td>6.1</td>\n",
       "      <td>9</td>\n",
       "    </tr>\n",
       "    <tr>\n",
       "      <th>4</th>\n",
       "      <td>Bronx</td>\n",
       "      <td>Concourse</td>\n",
       "      <td>551b7f75498e86c00a0ed2e1</td>\n",
       "      <td>Hungry Bird</td>\n",
       "      <td>8</td>\n",
       "      <td>7.6</td>\n",
       "      <td>3</td>\n",
       "    </tr>\n",
       "  </tbody>\n",
       "</table>\n",
       "</div>"
      ],
      "text/plain": [
       "  Borough    Neighborhood                        ID  \\\n",
       "0   Bronx        Woodlawn  4c0448d9310fc9b6bf1dc761   \n",
       "1   Bronx  Williamsbridge                         0   \n",
       "2   Bronx     Parkchester  4c194631838020a13e78e561   \n",
       "3   Bronx  Spuyten Duyvil  4c04544df423a593ac83d116   \n",
       "4   Bronx       Concourse  551b7f75498e86c00a0ed2e1   \n",
       "\n",
       "                          Name Likes  Rating Tips  \n",
       "0                   Curry Spot     4     7.9   11  \n",
       "1                            0     0     0.0    0  \n",
       "2  Melanies Roti Bar And Grill     3     6.2    2  \n",
       "3         Cumin Indian Cuisine    13     6.1    9  \n",
       "4                  Hungry Bird     8     7.6    3  "
      ]
     },
     "execution_count": 33,
     "metadata": {},
     "output_type": "execute_result"
    }
   ],
   "source": [
    "indian_rest_stats_ny.head()"
   ]
  },
  {
   "cell_type": "code",
   "execution_count": 34,
   "metadata": {
    "collapsed": false
   },
   "outputs": [
    {
     "data": {
      "text/plain": [
       "(147, 7)"
      ]
     },
     "execution_count": 34,
     "metadata": {},
     "output_type": "execute_result"
    }
   ],
   "source": [
    "indian_rest_stats_ny.shape"
   ]
  },
  {
   "cell_type": "markdown",
   "metadata": {},
   "source": [
    "\n",
    "start visualization"
   ]
  },
  {
   "cell_type": "code",
   "execution_count": 35,
   "metadata": {
    "collapsed": false
   },
   "outputs": [
    {
     "data": {
      "text/plain": [
       "Borough                           Queens\n",
       "Neighborhood            Long Island City\n",
       "ID              5b931ea69d7468002c3b1382\n",
       "Name                                Adda\n",
       "Likes                                 84\n",
       "Rating                               9.1\n",
       "Tips                                  24\n",
       "Name: 78, dtype: object"
      ]
     },
     "execution_count": 35,
     "metadata": {},
     "output_type": "execute_result"
    }
   ],
   "source": [
    "indian_rest_stats_ny.iloc[indian_rest_stats_ny['Rating'].idxmax()]\n"
   ]
  },
  {
   "cell_type": "markdown",
   "metadata": {},
   "source": [
    "lets visualize neighborhood with maximum average rating of resturants"
   ]
  },
  {
   "cell_type": "code",
   "execution_count": 36,
   "metadata": {
    "collapsed": true
   },
   "outputs": [],
   "source": [
    "ny_neighborhood_stats=indian_rest_stats_ny.groupby('Neighborhood',as_index=False).mean()[['Neighborhood','Rating']]\n",
    "ny_neighborhood_stats.columns=['Neighborhood','Average Rating']"
   ]
  },
  {
   "cell_type": "code",
   "execution_count": 37,
   "metadata": {
    "collapsed": false
   },
   "outputs": [
    {
     "data": {
      "text/html": [
       "<div>\n",
       "<style scoped>\n",
       "    .dataframe tbody tr th:only-of-type {\n",
       "        vertical-align: middle;\n",
       "    }\n",
       "\n",
       "    .dataframe tbody tr th {\n",
       "        vertical-align: top;\n",
       "    }\n",
       "\n",
       "    .dataframe thead th {\n",
       "        text-align: right;\n",
       "    }\n",
       "</style>\n",
       "<table border=\"1\" class=\"dataframe\">\n",
       "  <thead>\n",
       "    <tr style=\"text-align: right;\">\n",
       "      <th></th>\n",
       "      <th>Neighborhood</th>\n",
       "      <th>Average Rating</th>\n",
       "    </tr>\n",
       "  </thead>\n",
       "  <tbody>\n",
       "    <tr>\n",
       "      <th>5</th>\n",
       "      <td>Blissville</td>\n",
       "      <td>9.100000</td>\n",
       "    </tr>\n",
       "    <tr>\n",
       "      <th>66</th>\n",
       "      <td>Sunnyside</td>\n",
       "      <td>9.100000</td>\n",
       "    </tr>\n",
       "    <tr>\n",
       "      <th>70</th>\n",
       "      <td>Tribeca</td>\n",
       "      <td>9.000000</td>\n",
       "    </tr>\n",
       "    <tr>\n",
       "      <th>12</th>\n",
       "      <td>Civic Center</td>\n",
       "      <td>9.000000</td>\n",
       "    </tr>\n",
       "    <tr>\n",
       "      <th>47</th>\n",
       "      <td>Murray Hill</td>\n",
       "      <td>8.900000</td>\n",
       "    </tr>\n",
       "    <tr>\n",
       "      <th>45</th>\n",
       "      <td>Midtown South</td>\n",
       "      <td>8.800000</td>\n",
       "    </tr>\n",
       "    <tr>\n",
       "      <th>44</th>\n",
       "      <td>Midtown</td>\n",
       "      <td>8.800000</td>\n",
       "    </tr>\n",
       "    <tr>\n",
       "      <th>76</th>\n",
       "      <td>West Village</td>\n",
       "      <td>8.800000</td>\n",
       "    </tr>\n",
       "    <tr>\n",
       "      <th>30</th>\n",
       "      <td>Gramercy</td>\n",
       "      <td>8.733333</td>\n",
       "    </tr>\n",
       "    <tr>\n",
       "      <th>10</th>\n",
       "      <td>Chelsea</td>\n",
       "      <td>8.700000</td>\n",
       "    </tr>\n",
       "  </tbody>\n",
       "</table>\n",
       "</div>"
      ],
      "text/plain": [
       "     Neighborhood  Average Rating\n",
       "5      Blissville        9.100000\n",
       "66      Sunnyside        9.100000\n",
       "70        Tribeca        9.000000\n",
       "12   Civic Center        9.000000\n",
       "47    Murray Hill        8.900000\n",
       "45  Midtown South        8.800000\n",
       "44        Midtown        8.800000\n",
       "76   West Village        8.800000\n",
       "30       Gramercy        8.733333\n",
       "10        Chelsea        8.700000"
      ]
     },
     "execution_count": 37,
     "metadata": {},
     "output_type": "execute_result"
    }
   ],
   "source": [
    "\n",
    "ny_neighborhood_stats.sort_values(['Average Rating'],ascending=False).head(10)"
   ]
  },
  {
   "cell_type": "markdown",
   "metadata": {},
   "source": [
    "Above are the top neighborhoods with top average rating of Indian resturants"
   ]
  },
  {
   "cell_type": "code",
   "execution_count": 38,
   "metadata": {
    "collapsed": true
   },
   "outputs": [],
   "source": [
    "ny_borough_stats=indian_rest_stats_ny.groupby('Borough',as_index=False).mean()[['Borough','Rating']]\n",
    "ny_borough_stats.columns=['Borough','Average Rating']"
   ]
  },
  {
   "cell_type": "code",
   "execution_count": 39,
   "metadata": {
    "collapsed": false
   },
   "outputs": [
    {
     "data": {
      "text/html": [
       "<div>\n",
       "<style scoped>\n",
       "    .dataframe tbody tr th:only-of-type {\n",
       "        vertical-align: middle;\n",
       "    }\n",
       "\n",
       "    .dataframe tbody tr th {\n",
       "        vertical-align: top;\n",
       "    }\n",
       "\n",
       "    .dataframe thead th {\n",
       "        text-align: right;\n",
       "    }\n",
       "</style>\n",
       "<table border=\"1\" class=\"dataframe\">\n",
       "  <thead>\n",
       "    <tr style=\"text-align: right;\">\n",
       "      <th></th>\n",
       "      <th>Borough</th>\n",
       "      <th>Average Rating</th>\n",
       "    </tr>\n",
       "  </thead>\n",
       "  <tbody>\n",
       "    <tr>\n",
       "      <th>2</th>\n",
       "      <td>Manhattan</td>\n",
       "      <td>8.268293</td>\n",
       "    </tr>\n",
       "    <tr>\n",
       "      <th>4</th>\n",
       "      <td>Staten Island</td>\n",
       "      <td>7.900000</td>\n",
       "    </tr>\n",
       "    <tr>\n",
       "      <th>1</th>\n",
       "      <td>Brooklyn</td>\n",
       "      <td>7.546154</td>\n",
       "    </tr>\n",
       "    <tr>\n",
       "      <th>3</th>\n",
       "      <td>Queens</td>\n",
       "      <td>6.495652</td>\n",
       "    </tr>\n",
       "    <tr>\n",
       "      <th>0</th>\n",
       "      <td>Bronx</td>\n",
       "      <td>5.942857</td>\n",
       "    </tr>\n",
       "  </tbody>\n",
       "</table>\n",
       "</div>"
      ],
      "text/plain": [
       "         Borough  Average Rating\n",
       "2      Manhattan        8.268293\n",
       "4  Staten Island        7.900000\n",
       "1       Brooklyn        7.546154\n",
       "3         Queens        6.495652\n",
       "0          Bronx        5.942857"
      ]
     },
     "execution_count": 39,
     "metadata": {},
     "output_type": "execute_result"
    }
   ],
   "source": [
    "ny_borough_stats.sort_values(['Average Rating'],ascending=False).head()"
   ]
  },
  {
   "cell_type": "markdown",
   "metadata": {},
   "source": [
    "Above, these are the average rating of Indian Resturants for each Borough\n",
    "\n",
    "Lets visualize it"
   ]
  },
  {
   "cell_type": "code",
   "execution_count": 40,
   "metadata": {
    "collapsed": false
   },
   "outputs": [
    {
     "data": {
      "image/png": "[encoded data removed]",
      "text/plain": [
       "<Figure size 900x500 with 1 Axes>"
      ]
     },
     "metadata": {
      "needs_background": "light"
     },
     "output_type": "display_data"
    }
   ],
   "source": [
    "plt.figure(figsize=(9,5), dpi = 100)\n",
    "# title\n",
    "plt.title('Average rating of Indian Resturants for each Borough')\n",
    "#On x-axis\n",
    "plt.xlabel('Borough', fontsize = 15)\n",
    "#On y-axis\n",
    "plt.ylabel('Average Rating', fontsize=15)\n",
    "#giving a bar plot\n",
    "indian_rest_stats_ny.groupby('Borough').mean()['Rating'].plot(kind='bar')\n",
    "#legend\n",
    "plt.legend()\n",
    "#displays the plot\n",
    "plt.show()"
   ]
  },
  {
   "cell_type": "markdown",
   "metadata": {},
   "source": [
    "We will consider all the neighborhoods with average rating greater or equal 8.0 to visualize on map"
   ]
  },
  {
   "cell_type": "code",
   "execution_count": 41,
   "metadata": {
    "collapsed": true
   },
   "outputs": [],
   "source": [
    "ny_neighborhood_stats=ny_neighborhood_stats[ny_neighborhood_stats['Average Rating']>=8.0]"
   ]
  },
  {
   "cell_type": "code",
   "execution_count": 42,
   "metadata": {
    "collapsed": false
   },
   "outputs": [
    {
     "data": {
      "text/plain": [
       "(36, 2)"
      ]
     },
     "execution_count": 42,
     "metadata": {},
     "output_type": "execute_result"
    }
   ],
   "source": [
    "ny_neighborhood_stats.shape"
   ]
  },
  {
   "cell_type": "markdown",
   "metadata": {},
   "source": [
    "We will join this dataset to original new york data to get longitude and latitude"
   ]
  },
  {
   "cell_type": "code",
   "execution_count": 43,
   "metadata": {
    "collapsed": true
   },
   "outputs": [],
   "source": [
    "ny_neighborhood_stats=pd.merge(ny_neighborhood_stats,new_york_data, on='Neighborhood')"
   ]
  },
  {
   "cell_type": "code",
   "execution_count": 44,
   "metadata": {
    "collapsed": true
   },
   "outputs": [],
   "source": [
    "ny_neighborhood_stats=ny_neighborhood_stats[['Borough','Neighborhood','Latitude','Longitude','Average Rating']]\n"
   ]
  },
  {
   "cell_type": "code",
   "execution_count": 45,
   "metadata": {
    "collapsed": false
   },
   "outputs": [
    {
     "data": {
      "text/html": [
       "<div>\n",
       "<style scoped>\n",
       "    .dataframe tbody tr th:only-of-type {\n",
       "        vertical-align: middle;\n",
       "    }\n",
       "\n",
       "    .dataframe tbody tr th {\n",
       "        vertical-align: top;\n",
       "    }\n",
       "\n",
       "    .dataframe thead th {\n",
       "        text-align: right;\n",
       "    }\n",
       "</style>\n",
       "<table border=\"1\" class=\"dataframe\">\n",
       "  <thead>\n",
       "    <tr style=\"text-align: right;\">\n",
       "      <th></th>\n",
       "      <th>Borough</th>\n",
       "      <th>Neighborhood</th>\n",
       "      <th>Latitude</th>\n",
       "      <th>Longitude</th>\n",
       "      <th>Average Rating</th>\n",
       "    </tr>\n",
       "  </thead>\n",
       "  <tbody>\n",
       "    <tr>\n",
       "      <th>0</th>\n",
       "      <td>Queens</td>\n",
       "      <td>Astoria</td>\n",
       "      <td>40.768509</td>\n",
       "      <td>-73.915654</td>\n",
       "      <td>8.400000</td>\n",
       "    </tr>\n",
       "    <tr>\n",
       "      <th>1</th>\n",
       "      <td>Queens</td>\n",
       "      <td>Blissville</td>\n",
       "      <td>40.737251</td>\n",
       "      <td>-73.932442</td>\n",
       "      <td>9.100000</td>\n",
       "    </tr>\n",
       "    <tr>\n",
       "      <th>2</th>\n",
       "      <td>Manhattan</td>\n",
       "      <td>Carnegie Hill</td>\n",
       "      <td>40.782683</td>\n",
       "      <td>-73.953256</td>\n",
       "      <td>8.500000</td>\n",
       "    </tr>\n",
       "    <tr>\n",
       "      <th>3</th>\n",
       "      <td>Manhattan</td>\n",
       "      <td>Central Harlem</td>\n",
       "      <td>40.815976</td>\n",
       "      <td>-73.943211</td>\n",
       "      <td>8.200000</td>\n",
       "    </tr>\n",
       "    <tr>\n",
       "      <th>4</th>\n",
       "      <td>Manhattan</td>\n",
       "      <td>Chelsea</td>\n",
       "      <td>40.744035</td>\n",
       "      <td>-74.003116</td>\n",
       "      <td>8.700000</td>\n",
       "    </tr>\n",
       "    <tr>\n",
       "      <th>5</th>\n",
       "      <td>Staten Island</td>\n",
       "      <td>Chelsea</td>\n",
       "      <td>40.594726</td>\n",
       "      <td>-74.189560</td>\n",
       "      <td>8.700000</td>\n",
       "    </tr>\n",
       "    <tr>\n",
       "      <th>6</th>\n",
       "      <td>Manhattan</td>\n",
       "      <td>Civic Center</td>\n",
       "      <td>40.715229</td>\n",
       "      <td>-74.005415</td>\n",
       "      <td>9.000000</td>\n",
       "    </tr>\n",
       "    <tr>\n",
       "      <th>7</th>\n",
       "      <td>Brooklyn</td>\n",
       "      <td>Clinton Hill</td>\n",
       "      <td>40.693229</td>\n",
       "      <td>-73.967843</td>\n",
       "      <td>8.350000</td>\n",
       "    </tr>\n",
       "    <tr>\n",
       "      <th>8</th>\n",
       "      <td>Brooklyn</td>\n",
       "      <td>East Flatbush</td>\n",
       "      <td>40.641718</td>\n",
       "      <td>-73.936103</td>\n",
       "      <td>8.200000</td>\n",
       "    </tr>\n",
       "    <tr>\n",
       "      <th>9</th>\n",
       "      <td>Queens</td>\n",
       "      <td>Elmhurst</td>\n",
       "      <td>40.744049</td>\n",
       "      <td>-73.881656</td>\n",
       "      <td>8.600000</td>\n",
       "    </tr>\n",
       "    <tr>\n",
       "      <th>10</th>\n",
       "      <td>Manhattan</td>\n",
       "      <td>Financial District</td>\n",
       "      <td>40.707107</td>\n",
       "      <td>-74.010665</td>\n",
       "      <td>8.100000</td>\n",
       "    </tr>\n",
       "    <tr>\n",
       "      <th>11</th>\n",
       "      <td>Brooklyn</td>\n",
       "      <td>Fort Greene</td>\n",
       "      <td>40.688527</td>\n",
       "      <td>-73.972906</td>\n",
       "      <td>8.600000</td>\n",
       "    </tr>\n",
       "    <tr>\n",
       "      <th>12</th>\n",
       "      <td>Manhattan</td>\n",
       "      <td>Gramercy</td>\n",
       "      <td>40.737210</td>\n",
       "      <td>-73.981376</td>\n",
       "      <td>8.733333</td>\n",
       "    </tr>\n",
       "    <tr>\n",
       "      <th>13</th>\n",
       "      <td>Staten Island</td>\n",
       "      <td>Grant City</td>\n",
       "      <td>40.576216</td>\n",
       "      <td>-74.105856</td>\n",
       "      <td>8.100000</td>\n",
       "    </tr>\n",
       "    <tr>\n",
       "      <th>14</th>\n",
       "      <td>Queens</td>\n",
       "      <td>Holliswood</td>\n",
       "      <td>40.720957</td>\n",
       "      <td>-73.767142</td>\n",
       "      <td>8.000000</td>\n",
       "    </tr>\n",
       "    <tr>\n",
       "      <th>15</th>\n",
       "      <td>Queens</td>\n",
       "      <td>Jackson Heights</td>\n",
       "      <td>40.751981</td>\n",
       "      <td>-73.882821</td>\n",
       "      <td>8.466667</td>\n",
       "    </tr>\n",
       "    <tr>\n",
       "      <th>16</th>\n",
       "      <td>Manhattan</td>\n",
       "      <td>Midtown</td>\n",
       "      <td>40.754691</td>\n",
       "      <td>-73.981669</td>\n",
       "      <td>8.800000</td>\n",
       "    </tr>\n",
       "    <tr>\n",
       "      <th>17</th>\n",
       "      <td>Manhattan</td>\n",
       "      <td>Midtown South</td>\n",
       "      <td>40.748510</td>\n",
       "      <td>-73.988713</td>\n",
       "      <td>8.800000</td>\n",
       "    </tr>\n",
       "    <tr>\n",
       "      <th>18</th>\n",
       "      <td>Manhattan</td>\n",
       "      <td>Murray Hill</td>\n",
       "      <td>40.748303</td>\n",
       "      <td>-73.978332</td>\n",
       "      <td>8.900000</td>\n",
       "    </tr>\n",
       "    <tr>\n",
       "      <th>19</th>\n",
       "      <td>Queens</td>\n",
       "      <td>Murray Hill</td>\n",
       "      <td>40.764126</td>\n",
       "      <td>-73.812763</td>\n",
       "      <td>8.900000</td>\n",
       "    </tr>\n",
       "    <tr>\n",
       "      <th>20</th>\n",
       "      <td>Staten Island</td>\n",
       "      <td>New Dorp</td>\n",
       "      <td>40.572572</td>\n",
       "      <td>-74.116479</td>\n",
       "      <td>8.100000</td>\n",
       "    </tr>\n",
       "    <tr>\n",
       "      <th>21</th>\n",
       "      <td>Brooklyn</td>\n",
       "      <td>North Side</td>\n",
       "      <td>40.714823</td>\n",
       "      <td>-73.958809</td>\n",
       "      <td>8.700000</td>\n",
       "    </tr>\n",
       "    <tr>\n",
       "      <th>22</th>\n",
       "      <td>Brooklyn</td>\n",
       "      <td>Ocean Hill</td>\n",
       "      <td>40.678403</td>\n",
       "      <td>-73.913068</td>\n",
       "      <td>8.300000</td>\n",
       "    </tr>\n",
       "    <tr>\n",
       "      <th>23</th>\n",
       "      <td>Brooklyn</td>\n",
       "      <td>Prospect Heights</td>\n",
       "      <td>40.676822</td>\n",
       "      <td>-73.964859</td>\n",
       "      <td>8.700000</td>\n",
       "    </tr>\n",
       "    <tr>\n",
       "      <th>24</th>\n",
       "      <td>Brooklyn</td>\n",
       "      <td>Prospect Lefferts Gardens</td>\n",
       "      <td>40.658420</td>\n",
       "      <td>-73.954899</td>\n",
       "      <td>8.600000</td>\n",
       "    </tr>\n",
       "    <tr>\n",
       "      <th>25</th>\n",
       "      <td>Queens</td>\n",
       "      <td>Ravenswood</td>\n",
       "      <td>40.761705</td>\n",
       "      <td>-73.931575</td>\n",
       "      <td>8.100000</td>\n",
       "    </tr>\n",
       "    <tr>\n",
       "      <th>26</th>\n",
       "      <td>Queens</td>\n",
       "      <td>Ridgewood</td>\n",
       "      <td>40.708323</td>\n",
       "      <td>-73.901435</td>\n",
       "      <td>8.300000</td>\n",
       "    </tr>\n",
       "    <tr>\n",
       "      <th>27</th>\n",
       "      <td>Manhattan</td>\n",
       "      <td>Roosevelt Island</td>\n",
       "      <td>40.762160</td>\n",
       "      <td>-73.949168</td>\n",
       "      <td>8.400000</td>\n",
       "    </tr>\n",
       "    <tr>\n",
       "      <th>28</th>\n",
       "      <td>Brooklyn</td>\n",
       "      <td>South Side</td>\n",
       "      <td>40.710861</td>\n",
       "      <td>-73.958001</td>\n",
       "      <td>8.700000</td>\n",
       "    </tr>\n",
       "    <tr>\n",
       "      <th>29</th>\n",
       "      <td>Queens</td>\n",
       "      <td>Steinway</td>\n",
       "      <td>40.775923</td>\n",
       "      <td>-73.902290</td>\n",
       "      <td>8.600000</td>\n",
       "    </tr>\n",
       "    <tr>\n",
       "      <th>30</th>\n",
       "      <td>Queens</td>\n",
       "      <td>Sunnyside</td>\n",
       "      <td>40.740176</td>\n",
       "      <td>-73.926916</td>\n",
       "      <td>9.100000</td>\n",
       "    </tr>\n",
       "    <tr>\n",
       "      <th>31</th>\n",
       "      <td>Staten Island</td>\n",
       "      <td>Sunnyside</td>\n",
       "      <td>40.612760</td>\n",
       "      <td>-74.097126</td>\n",
       "      <td>9.100000</td>\n",
       "    </tr>\n",
       "    <tr>\n",
       "      <th>32</th>\n",
       "      <td>Manhattan</td>\n",
       "      <td>Sutton Place</td>\n",
       "      <td>40.760280</td>\n",
       "      <td>-73.963556</td>\n",
       "      <td>8.333333</td>\n",
       "    </tr>\n",
       "    <tr>\n",
       "      <th>33</th>\n",
       "      <td>Manhattan</td>\n",
       "      <td>Tribeca</td>\n",
       "      <td>40.721522</td>\n",
       "      <td>-74.010683</td>\n",
       "      <td>9.000000</td>\n",
       "    </tr>\n",
       "    <tr>\n",
       "      <th>34</th>\n",
       "      <td>Manhattan</td>\n",
       "      <td>Tudor City</td>\n",
       "      <td>40.746917</td>\n",
       "      <td>-73.971219</td>\n",
       "      <td>8.550000</td>\n",
       "    </tr>\n",
       "    <tr>\n",
       "      <th>35</th>\n",
       "      <td>Manhattan</td>\n",
       "      <td>Turtle Bay</td>\n",
       "      <td>40.752042</td>\n",
       "      <td>-73.967708</td>\n",
       "      <td>8.375000</td>\n",
       "    </tr>\n",
       "    <tr>\n",
       "      <th>36</th>\n",
       "      <td>Manhattan</td>\n",
       "      <td>Upper West Side</td>\n",
       "      <td>40.787658</td>\n",
       "      <td>-73.977059</td>\n",
       "      <td>8.233333</td>\n",
       "    </tr>\n",
       "    <tr>\n",
       "      <th>37</th>\n",
       "      <td>Manhattan</td>\n",
       "      <td>West Village</td>\n",
       "      <td>40.734434</td>\n",
       "      <td>-74.006180</td>\n",
       "      <td>8.800000</td>\n",
       "    </tr>\n",
       "    <tr>\n",
       "      <th>38</th>\n",
       "      <td>Manhattan</td>\n",
       "      <td>Yorkville</td>\n",
       "      <td>40.775930</td>\n",
       "      <td>-73.947118</td>\n",
       "      <td>8.500000</td>\n",
       "    </tr>\n",
       "  </tbody>\n",
       "</table>\n",
       "</div>"
      ],
      "text/plain": [
       "          Borough               Neighborhood   Latitude  Longitude  \\\n",
       "0          Queens                    Astoria  40.768509 -73.915654   \n",
       "1          Queens                 Blissville  40.737251 -73.932442   \n",
       "2       Manhattan              Carnegie Hill  40.782683 -73.953256   \n",
       "3       Manhattan             Central Harlem  40.815976 -73.943211   \n",
       "4       Manhattan                    Chelsea  40.744035 -74.003116   \n",
       "5   Staten Island                    Chelsea  40.594726 -74.189560   \n",
       "6       Manhattan               Civic Center  40.715229 -74.005415   \n",
       "7        Brooklyn               Clinton Hill  40.693229 -73.967843   \n",
       "8        Brooklyn              East Flatbush  40.641718 -73.936103   \n",
       "9          Queens                   Elmhurst  40.744049 -73.881656   \n",
       "10      Manhattan         Financial District  40.707107 -74.010665   \n",
       "11       Brooklyn                Fort Greene  40.688527 -73.972906   \n",
       "12      Manhattan                   Gramercy  40.737210 -73.981376   \n",
       "13  Staten Island                 Grant City  40.576216 -74.105856   \n",
       "14         Queens                 Holliswood  40.720957 -73.767142   \n",
       "15         Queens            Jackson Heights  40.751981 -73.882821   \n",
       "16      Manhattan                    Midtown  40.754691 -73.981669   \n",
       "17      Manhattan              Midtown South  40.748510 -73.988713   \n",
       "18      Manhattan                Murray Hill  40.748303 -73.978332   \n",
       "19         Queens                Murray Hill  40.764126 -73.812763   \n",
       "20  Staten Island                   New Dorp  40.572572 -74.116479   \n",
       "21       Brooklyn                 North Side  40.714823 -73.958809   \n",
       "22       Brooklyn                 Ocean Hill  40.678403 -73.913068   \n",
       "23       Brooklyn           Prospect Heights  40.676822 -73.964859   \n",
       "24       Brooklyn  Prospect Lefferts Gardens  40.658420 -73.954899   \n",
       "25         Queens                 Ravenswood  40.761705 -73.931575   \n",
       "26         Queens                  Ridgewood  40.708323 -73.901435   \n",
       "27      Manhattan           Roosevelt Island  40.762160 -73.949168   \n",
       "28       Brooklyn                 South Side  40.710861 -73.958001   \n",
       "29         Queens                   Steinway  40.775923 -73.902290   \n",
       "30         Queens                  Sunnyside  40.740176 -73.926916   \n",
       "31  Staten Island                  Sunnyside  40.612760 -74.097126   \n",
       "32      Manhattan               Sutton Place  40.760280 -73.963556   \n",
       "33      Manhattan                    Tribeca  40.721522 -74.010683   \n",
       "34      Manhattan                 Tudor City  40.746917 -73.971219   \n",
       "35      Manhattan                 Turtle Bay  40.752042 -73.967708   \n",
       "36      Manhattan            Upper West Side  40.787658 -73.977059   \n",
       "37      Manhattan               West Village  40.734434 -74.006180   \n",
       "38      Manhattan                  Yorkville  40.775930 -73.947118   \n",
       "\n",
       "    Average Rating  \n",
       "0         8.400000  \n",
       "1         9.100000  \n",
       "2         8.500000  \n",
       "3         8.200000  \n",
       "4         8.700000  \n",
       "5         8.700000  \n",
       "6         9.000000  \n",
       "7         8.350000  \n",
       "8         8.200000  \n",
       "9         8.600000  \n",
       "10        8.100000  \n",
       "11        8.600000  \n",
       "12        8.733333  \n",
       "13        8.100000  \n",
       "14        8.000000  \n",
       "15        8.466667  \n",
       "16        8.800000  \n",
       "17        8.800000  \n",
       "18        8.900000  \n",
       "19        8.900000  \n",
       "20        8.100000  \n",
       "21        8.700000  \n",
       "22        8.300000  \n",
       "23        8.700000  \n",
       "24        8.600000  \n",
       "25        8.100000  \n",
       "26        8.300000  \n",
       "27        8.400000  \n",
       "28        8.700000  \n",
       "29        8.600000  \n",
       "30        9.100000  \n",
       "31        9.100000  \n",
       "32        8.333333  \n",
       "33        9.000000  \n",
       "34        8.550000  \n",
       "35        8.375000  \n",
       "36        8.233333  \n",
       "37        8.800000  \n",
       "38        8.500000  "
      ]
     },
     "execution_count": 45,
     "metadata": {},
     "output_type": "execute_result"
    }
   ],
   "source": [
    "ny_neighborhood_stats"
   ]
  },
  {
   "cell_type": "markdown",
   "metadata": {},
   "source": [
    "Now we will show this data on a map"
   ]
  },
  {
   "cell_type": "code",
   "execution_count": 46,
   "metadata": {
    "collapsed": true
   },
   "outputs": [],
   "source": [
    "ny_map = folium.Map(location=geo_location('New York'), zoom_start=12)"
   ]
  },
  {
   "cell_type": "code",
   "execution_count": 47,
   "metadata": {
    "collapsed": true
   },
   "outputs": [],
   "source": [
    "incidents = folium.map.FeatureGroup()\n",
    "\n",
    "for lat, lng, in ny_neighborhood_stats[['Latitude','Longitude']].values:\n",
    "    incidents.add_child(\n",
    "        folium.CircleMarker(\n",
    "            [lat, lng],\n",
    "            radius=10, # define how big you want the circle markers to be\n",
    "            color='yellow',\n",
    "            fill=True,\n",
    "            fill_color='blue',\n",
    "            fill_opacity=0.6\n",
    "        )\n",
    "    )"
   ]
  },
  {
   "cell_type": "markdown",
   "metadata": {},
   "source": [
    "\n",
    "Lets add a new field to dataframe for labeling purpose"
   ]
  },
  {
   "cell_type": "code",
   "execution_count": 48,
   "metadata": {
    "collapsed": true
   },
   "outputs": [],
   "source": [
    "ny_neighborhood_stats['Label']=ny_neighborhood_stats['Neighborhood']+', '+ny_neighborhood_stats['Borough']+'('+ny_neighborhood_stats['Average Rating'].map(str)+')'"
   ]
  },
  {
   "cell_type": "code",
   "execution_count": 49,
   "metadata": {
    "collapsed": false
   },
   "outputs": [
    {
     "data": {
      "text/html": [
       "<div style=\"width:100%;\"><div style=\"position:relative;width:100%;height:0;padding-bottom:60%;\"><iframe src=\"data:text/html;charset=utf-8;base64,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\" style=\"position:absolute;width:100%;height:100%;left:0;top:0;border:none !important;\" allowfullscreen webkitallowfullscreen mozallowfullscreen></iframe></div></div>"
      ],
      "text/plain": [
       "<folium.folium.Map at 0x7fbe4d75f2b0>"
      ]
     },
     "execution_count": 49,
     "metadata": {},
     "output_type": "execute_result"
    }
   ],
   "source": [
    "for lat, lng, label in ny_neighborhood_stats[['Latitude','Longitude','Label']].values:\n",
    "    folium.Marker([lat, lng], popup=label).add_to(ny_map)        \n",
    "# add incidents to map\n",
    "ny_map.add_child(incidents)"
   ]
  },
  {
   "cell_type": "markdown",
   "metadata": {
    "collapsed": true
   },
   "source": [
    "### Conclusion:\n",
    "Blissville(Queens), Civic Center(Manhattan) are some of the best neighborhoods for indian cuisine.\n",
    "\n",
    "Manhattan have potential Indian Resturant Market.\n",
    "\n",
    "'Queens' (Borough) have highest number of indian restaurants.\n",
    "\n",
    "'Flora Park' (Neighborhood) has highhest number of Indian Resturants.\n",
    "\n",
    "Manhattan is the best place to stay if you prefer Indian Cuisine because it has highest average rating of Indian Resturants.\n",
    "\n",
    "'Staten Island' and 'Bronx' both have minimun number of Indian Restaurants, so these both places are suitable for opening a new restaurant."
   ]
  },
  {
   "cell_type": "code",
   "execution_count": null,
   "metadata": {
    "collapsed": true
   },
   "outputs": [],
   "source": []
  }
 ],
 "metadata": {
  "kernelspec": {
   "display_name": "Python 3",
   "language": "python",
   "name": "python3"
  },
  "language_info": {
   "codemirror_mode": {
    "name": "ipython",
    "version": 3
   },
   "file_extension": ".py",
   "mimetype": "text/x-python",
   "name": "python",
   "nbconvert_exporter": "python",
   "pygments_lexer": "ipython3",
   "version": "3.5.2"
  },
  "widgets": {
   "state": {},
   "version": "1.1.2"
  }
 },
 "nbformat": 4,
 "nbformat_minor": 2
}

