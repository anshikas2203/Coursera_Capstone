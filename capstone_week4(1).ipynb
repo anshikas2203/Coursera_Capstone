{
 "cells": [
  {
   "cell_type": "markdown",
   "metadata": {},
   "source": [
    "# The Battle of the Neighborhoods - Week 1\n",
    "### Introduction & Business Problem :"
   ]
  },
  {
   "cell_type": "markdown",
   "metadata": {},
   "source": [
    "The city of New York is the most populous city in the United States with an estimated 2018 population of 8,398,748\n",
    "distributed over a land area of about 302.6 sq miles(784 km sq),. It is the most densely populated major city in the\n",
    "United states. Indians in the New York City metropolitian region constitute one of the largest and fastest growing\n",
    "ethnicities in the New york .\n",
    "\n",
    "When a new person comes from India to New York due to job change or any other reasons,some questions come in his/her mind regarding the Indian food/restaurants\n",
    "e.g.\n",
    "\n",
    "which areas have potential Indian restaurant market?\n",
    "\n",
    "what is best place in New York City for Indian Cusine?¶"
   ]
  },
  {
   "cell_type": "markdown",
   "metadata": {},
   "source": [
    "***"
   ]
  },
  {
   "cell_type": "markdown",
   "metadata": {},
   "source": [
    "And the same problem arises when a person wants to open a new restaurant in the New York . \n",
    "\n",
    "The person also wants to know which is the best Borough to open a new restaurant"
   ]
  },
  {
   "cell_type": "markdown",
   "metadata": {},
   "source": [
    "\n",
    "Although New York seems to be a great destination to open a new Indian food restaurant(High density of population, High average income, and high level of business activities in any field),\n",
    "but the competition is also high that any entrepreneur need to plan thoroughly before investing.\n",
    "\n",
    "Thus, some decision making tools are needed."
   ]
  },
  {
   "cell_type": "markdown",
   "metadata": {},
   "source": [
    "So in this project we will try to find the solution of above mentioned questions and try to find out the best place in New York for best cuisine and also find out the best Borough to open an Indian restaurant .\n",
    "\n",
    "Also we will visualize the Indian restaurant in all major part of New York city."
   ]
  },
  {
   "cell_type": "code",
   "execution_count": null,
   "metadata": {
    "collapsed": true
   },
   "outputs": [],
   "source": []
  }
 ],
 "metadata": {
  "kernelspec": {
   "display_name": "Python 3",
   "language": "python",
   "name": "python3"
  },
  "language_info": {
   "codemirror_mode": {
    "name": "ipython",
    "version": 3
   },
   "file_extension": ".py",
   "mimetype": "text/x-python",
   "name": "python",
   "nbconvert_exporter": "python",
   "pygments_lexer": "ipython3",
   "version": "3.5.2"
  },
  "widgets": {
   "state": {},
   "version": "1.1.2"
  }
 },
 "nbformat": 4,
 "nbformat_minor": 2
}

