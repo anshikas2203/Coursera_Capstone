{
 "cells": [
  {
   "cell_type": "markdown",
   "metadata": {},
   "source": [
    "# The Battle of the Neighborhoods - Week 1\n",
    "### Introduction & Business Problem :"
   ]
  },
  {
   "cell_type": "markdown",
   "metadata": {},
   "source": [
    "\n",
    "### Data description\n",
    "The data about number and location of Indian food restaurants in each Boroughs of NYC will be collected via Foursquare platform. The data science’s tools will be utilized to gain insights as follow:\n",
    "\n",
    "How many Indian restaurants in each Borough\n",
    "How dense of Indian restaurants in each Borough The insights will be use for estimating the opportunity and risk of opening a new Indian food restaurant for entrepreneur that is considering to enter the industry"
   ]
  },
  {
   "cell_type": "markdown",
   "metadata": {},
   "source": [
    "So in this project we will try to find the solution of above mentioned questions and try to find out the best place in New York for best cuisine and also find out the best Borough to open an Indian restaurant .\n",
    "\n",
    "Also we will visualize the Indian restaurant in all major part of New York city."
   ]
  },
  {
   "cell_type": "code",
   "execution_count": null,
   "metadata": {
    "collapsed": true
   },
   "outputs": [],
   "source": []
  }
 ],
 "metadata": {
  "kernelspec": {
   "display_name": "Python 3",
   "language": "python",
   "name": "python3"
  },
  "language_info": {
   "codemirror_mode": {
    "name": "ipython",
    "version": 3
   },
   "file_extension": ".py",
   "mimetype": "text/x-python",
   "name": "python",
   "nbconvert_exporter": "python",
   "pygments_lexer": "ipython3",
   "version": "3.5.2"
  },
  "widgets": {
   "state": {},
   "version": "1.1.2"
  }
 },
 "nbformat": 4,
 "nbformat_minor": 2
}

